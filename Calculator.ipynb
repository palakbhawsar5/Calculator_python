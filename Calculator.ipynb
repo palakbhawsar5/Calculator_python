{
  "nbformat": 4,
  "nbformat_minor": 0,
  "metadata": {
    "colab": {
      "provenance": [],
      "authorship_tag": "ABX9TyNfIZ4lzXXIipB7G8uK8kU1",
      "include_colab_link": true
    },
    "kernelspec": {
      "name": "python3",
      "display_name": "Python 3"
    },
    "language_info": {
      "name": "python"
    }
  },
  "cells": [
    {
      "cell_type": "markdown",
      "metadata": {
        "id": "view-in-github",
        "colab_type": "text"
      },
      "source": [
        "<a href=\"https://colab.research.google.com/github/palakbhawsar5/Calculator_python/blob/main/Calculator.ipynb\" target=\"_parent\"><img src=\"https://colab.research.google.com/assets/colab-badge.svg\" alt=\"Open In Colab\"/></a>"
      ]
    },
    {
      "cell_type": "code",
      "execution_count": 7,
      "metadata": {
        "colab": {
          "base_uri": "https://localhost:8080/"
        },
        "id": "X3JM3GdJmdoh",
        "outputId": "391b0272-f1b1-4b55-abf0-5b6b4b38ab84"
      },
      "outputs": [
        {
          "output_type": "stream",
          "name": "stdout",
          "text": [
            "enter first number6\n",
            "enter second number8\n",
            "the value of 6 + 8 is 14\n",
            "the value of 6 - 8 is 2\n",
            "the value of 6 * 8 is 48\n",
            "the value of 6 % 8 is 6\n"
          ]
        }
      ],
      "source": [
        "a=int(input(\"enter first number\"))\n",
        "b=int(input(\"enter second number\"))\n",
        "print(\"the value of\" ,a,\"+\",b,\"is\",(a+b) )\n",
        "print(\"the value of\" ,a,\"-\",b,\"is\",b-a )\n",
        "print(\"the value of\" ,a,\"*\",b,\"is\",a*b )\n",
        "print(\"the value of\" ,a,\"%\",b,\"is\",a%b )"
      ]
    }
  ]
}